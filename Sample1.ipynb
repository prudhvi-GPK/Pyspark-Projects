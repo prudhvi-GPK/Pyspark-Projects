{
 "cells": [
  {
   "cell_type": "code",
   "execution_count": 2,
   "id": "d04240b3-9fab-411a-9a85-68c37fb954d7",
   "metadata": {},
   "outputs": [],
   "source": [
    "from pyspark.sql import SparkSession\n",
    "from pyspark.sql.functions import col, avg, round, mean"
   ]
  },
  {
   "cell_type": "markdown",
   "id": "4104aa0e-0caa-4da5-a25b-97f2eb8e70b9",
   "metadata": {},
   "source": [
    "# Initialize Spark session"
   ]
  },
  {
   "cell_type": "code",
   "execution_count": 3,
   "id": "1d2466dd-c5c8-42c2-81b9-6cb47adbf193",
   "metadata": {},
   "outputs": [],
   "source": [
    "spark = SparkSession.builder \\\n",
    "    .appName(\"Taxi Data Analysis\") \\\n",
    "    .getOrCreate()"
   ]
  },
  {
   "cell_type": "markdown",
   "id": "75f6cfd7-e1f5-4148-a1c6-b6a555971464",
   "metadata": {},
   "source": [
    "# Load data into DataFrame"
   ]
  },
  {
   "cell_type": "code",
   "execution_count": 6,
   "id": "b7f6fa78-11c6-4279-baa4-d83976f443d6",
   "metadata": {},
   "outputs": [],
   "source": [
    "df = spark.read.csv(\"data/data_reports_monthly.csv\", header=True, inferSchema=True)"
   ]
  },
  {
   "cell_type": "markdown",
   "id": "43fa400f-8544-48cb-bc55-5c3a6442c69f",
   "metadata": {},
   "source": [
    "# Show schema and sample data"
   ]
  },
  {
   "cell_type": "code",
   "execution_count": 7,
   "id": "454368f9-717e-47f8-a016-4407f9315075",
   "metadata": {},
   "outputs": [
    {
     "name": "stdout",
     "output_type": "stream",
     "text": [
      "root\n",
      " |-- Month/Year: timestamp (nullable = true)\n",
      " |-- License Class: string (nullable = true)\n",
      " |-- Trips Per Day: string (nullable = true)\n",
      " |-- Farebox Per Day: string (nullable = true)\n",
      " |-- Unique Drivers: string (nullable = true)\n",
      " |-- Unique Vehicles: string (nullable = true)\n",
      " |-- Vehicles Per Day: string (nullable = true)\n",
      " |-- Avg Days Vehicles on Road: double (nullable = true)\n",
      " |-- Avg Hours Per Day Per Vehicle: double (nullable = true)\n",
      " |-- Avg Days Drivers on Road: double (nullable = true)\n",
      " |-- Avg Hours Per Day Per Driver: double (nullable = true)\n",
      " |-- Avg Minutes Per Trip: double (nullable = true)\n",
      " |-- Percent of Trips Paid with Credit Card: string (nullable = true)\n",
      " |-- Trips Per Day Shared: string (nullable = true)\n",
      "\n",
      "+-------------------+-----------------+-------------+---------------+--------------+---------------+----------------+-------------------------+-----------------------------+------------------------+----------------------------+--------------------+--------------------------------------+--------------------+\n",
      "|         Month/Year|    License Class|Trips Per Day|Farebox Per Day|Unique Drivers|Unique Vehicles|Vehicles Per Day|Avg Days Vehicles on Road|Avg Hours Per Day Per Vehicle|Avg Days Drivers on Road|Avg Hours Per Day Per Driver|Avg Minutes Per Trip|Percent of Trips Paid with Credit Card|Trips Per Day Shared|\n",
      "+-------------------+-----------------+-------------+---------------+--------------+---------------+----------------+-------------------------+-----------------------------+------------------------+----------------------------+--------------------+--------------------------------------+--------------------+\n",
      "|2024-06-01 00:00:00|  FHV - Black Car|       21,556|              -|         7,820|          7,423|           3,434|                     13.9|                          4.9|                    13.9|                         4.6|                27.0|                                     -|                   -|\n",
      "|2024-06-01 00:00:00|FHV - High Volume|      670,772|              -|        83,794|         82,824|          58,798|                     21.3|                          6.5|                    21.4|                         6.4|                20.0|                                     -|               9,431|\n",
      "|2024-06-01 00:00:00|     FHV - Livery|       23,607|              -|         7,308|          7,161|           3,774|                     15.8|                          4.7|                    15.8|                         4.6|                22.0|                                     -|                   -|\n",
      "|2024-06-01 00:00:00|   FHV - Lux Limo|          987|              -|         1,425|          1,360|             487|                     10.8|                          2.0|                    10.7|                         1.9|                67.0|                                     -|                   -|\n",
      "|2024-06-01 00:00:00|            Green|        1,805|         40,377|           750|            713|             399|                     16.8|                          3.6|                    16.2|                         3.6|                15.0|                                   72%|                   -|\n",
      "+-------------------+-----------------+-------------+---------------+--------------+---------------+----------------+-------------------------+-----------------------------+------------------------+----------------------------+--------------------+--------------------------------------+--------------------+\n",
      "only showing top 5 rows\n",
      "\n"
     ]
    }
   ],
   "source": [
    "df.printSchema()\n",
    "df.show(5)"
   ]
  },
  {
   "cell_type": "markdown",
   "id": "68eb3e7c-9eba-4f18-9423-67044304f69b",
   "metadata": {},
   "source": [
    "# Data Cleaning: Handle missing values and correct data types"
   ]
  },
  {
   "cell_type": "code",
   "execution_count": 8,
   "id": "0bfdd272-7d6e-4375-a983-9bfbd812a6fa",
   "metadata": {},
   "outputs": [],
   "source": [
    "df = df.na.drop()\n",
    "df = df.withColumn(\"Trips Per Day\", col(\"Trips Per Day\").cast(\"float\"))"
   ]
  },
  {
   "cell_type": "markdown",
   "id": "29b4eaf8-7ef2-47a6-8939-67ae217e1fa3",
   "metadata": {},
   "source": [
    "# Exploratory Data Analysis"
   ]
  },
  {
   "cell_type": "code",
   "execution_count": 9,
   "id": "bb4d2b77-ad1b-4fe5-9928-d1fb4267cae5",
   "metadata": {},
   "outputs": [
    {
     "name": "stdout",
     "output_type": "stream",
     "text": [
      "+-------+---------------+------------------+---------------+------------------+------------------+------------------+-------------------------+-----------------------------+------------------------+----------------------------+--------------------+--------------------------------------+--------------------+\n",
      "|summary|  License Class|     Trips Per Day|Farebox Per Day|    Unique Drivers|   Unique Vehicles|  Vehicles Per Day|Avg Days Vehicles on Road|Avg Hours Per Day Per Vehicle|Avg Days Drivers on Road|Avg Hours Per Day Per Driver|Avg Minutes Per Trip|Percent of Trips Paid with Credit Card|Trips Per Day Shared|\n",
      "+-------+---------------+------------------+---------------+------------------+------------------+------------------+-------------------------+-----------------------------+------------------------+----------------------------+--------------------+--------------------------------------+--------------------+\n",
      "|  count|            761|                22|            761|               761|               761|               761|                      761|                          761|                     761|                         761|                 761|                                   761|                 761|\n",
      "|   mean|           NULL| 608.3181818181819|           NULL| 825.8269230769231| 806.2037037037037| 519.6465517241379|        19.80052562417871|            6.253350854139302|       18.16097240473062|           5.236530880420509|   20.23074901445465|                                  NULL|  141.37777777777777|\n",
      "| stddev|           NULL|247.63594368762506|           NULL|186.09840546290852|179.59759838181117|180.28124184706255|        5.445693589500248|           3.6122660105101305|      3.6461498945030866|          1.9323575870192709|  17.980252342685855|                                  NULL|   225.3071932121372|\n",
      "|    min|FHV - Black Car|             148.0|              -|             1,001|             1,004|             1,017|                      6.7|                          1.9|                     6.8|                         1.8|                 0.0|                                     -|                   -|\n",
      "|    max|         Yellow|             987.0|        979,152|               991|               990|               993|                     30.1|                         15.3|                    23.2|                         8.5|                75.0|                                   84%|              97,117|\n",
      "+-------+---------------+------------------+---------------+------------------+------------------+------------------+-------------------------+-----------------------------+------------------------+----------------------------+--------------------+--------------------------------------+--------------------+\n",
      "\n"
     ]
    }
   ],
   "source": [
    "df.describe().show()"
   ]
  },
  {
   "cell_type": "markdown",
   "id": "e462354b-3bd6-4ef3-833b-0e44eb828b4c",
   "metadata": {},
   "source": [
    "# Analysis: Calculate average trips and fare per license class"
   ]
  },
  {
   "cell_type": "code",
   "execution_count": 10,
   "id": "50abb585-2fd9-4666-aff3-cc69f0c9c25c",
   "metadata": {},
   "outputs": [
    {
     "name": "stdout",
     "output_type": "stream",
     "text": [
      "+-----------------+-----------------+\n",
      "|    License Class|    Average Trips|\n",
      "+-----------------+-----------------+\n",
      "|  FHV - Black Car|             NULL|\n",
      "|FHV - High Volume|             NULL|\n",
      "|            Green|            283.0|\n",
      "|     FHV - Livery|             NULL|\n",
      "|           Yellow|             NULL|\n",
      "|   FHV - Lux Limo|623.8095238095239|\n",
      "+-----------------+-----------------+\n",
      "\n"
     ]
    }
   ],
   "source": [
    "avg_trips = df.groupBy(\"License Class\").agg(avg(\"Trips Per Day\").alias(\"Average Trips\"))\n",
    "avg_trips.show()"
   ]
  },
  {
   "cell_type": "code",
   "execution_count": null,
   "id": "b2bb33f6-fa48-4404-af13-c9345822cfd7",
   "metadata": {},
   "outputs": [],
   "source": []
  }
 ],
 "metadata": {
  "kernelspec": {
   "display_name": "Python 3 (ipykernel)",
   "language": "python",
   "name": "python3"
  },
  "language_info": {
   "codemirror_mode": {
    "name": "ipython",
    "version": 3
   },
   "file_extension": ".py",
   "mimetype": "text/x-python",
   "name": "python",
   "nbconvert_exporter": "python",
   "pygments_lexer": "ipython3",
   "version": "3.12.0"
  }
 },
 "nbformat": 4,
 "nbformat_minor": 5
}
